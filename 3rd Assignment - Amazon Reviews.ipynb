{
 "cells": [
  {
   "cell_type": "markdown",
   "id": "3210936e",
   "metadata": {},
   "source": [
    "## 3rd Text Analytics Assignment - Amazon Prediction Problem Using Embeddings"
   ]
  },
  {
   "cell_type": "code",
   "execution_count": 2,
   "id": "bc7e838c",
   "metadata": {},
   "outputs": [],
   "source": [
    "#Importing packages \n",
    "import gensim.downloader as api\n",
    "import numpy as np\n",
    "import pandas as pd\n",
    "from gensim.models import Word2Vec\n",
    "from sklearn.metrics.pairwise import cosine_similarity\n",
    "from transformers import BertTokenizer, BertModel\n",
    "import torch"
   ]
  },
  {
   "cell_type": "code",
   "execution_count": 37,
   "id": "1d7fe96a",
   "metadata": {},
   "outputs": [
    {
     "data": {
      "text/html": [
       "<div>\n",
       "<style scoped>\n",
       "    .dataframe tbody tr th:only-of-type {\n",
       "        vertical-align: middle;\n",
       "    }\n",
       "\n",
       "    .dataframe tbody tr th {\n",
       "        vertical-align: top;\n",
       "    }\n",
       "\n",
       "    .dataframe thead th {\n",
       "        text-align: right;\n",
       "    }\n",
       "</style>\n",
       "<table border=\"1\" class=\"dataframe\">\n",
       "  <thead>\n",
       "    <tr style=\"text-align: right;\">\n",
       "      <th></th>\n",
       "      <th>Product Name</th>\n",
       "      <th>Brand Name</th>\n",
       "      <th>Price</th>\n",
       "      <th>Rating</th>\n",
       "      <th>Reviews</th>\n",
       "      <th>Review Votes</th>\n",
       "    </tr>\n",
       "  </thead>\n",
       "  <tbody>\n",
       "    <tr>\n",
       "      <th>394349</th>\n",
       "      <td>Sony XPERIA Z2 D6503 FACTORY UNLOCKED Internat...</td>\n",
       "      <td>NaN</td>\n",
       "      <td>244.95</td>\n",
       "      <td>5</td>\n",
       "      <td>Very good one! Better than Samsung S and iphon...</td>\n",
       "      <td>0.0</td>\n",
       "    </tr>\n",
       "    <tr>\n",
       "      <th>34377</th>\n",
       "      <td>Apple iPhone 5c 8GB (Pink) - Verizon Wireless</td>\n",
       "      <td>Apple</td>\n",
       "      <td>194.99</td>\n",
       "      <td>1</td>\n",
       "      <td>The phone needed a SIM card, would have been n...</td>\n",
       "      <td>1.0</td>\n",
       "    </tr>\n",
       "    <tr>\n",
       "      <th>248521</th>\n",
       "      <td>Motorola Droid RAZR MAXX XT912 M Verizon Smart...</td>\n",
       "      <td>Motorola</td>\n",
       "      <td>174.99</td>\n",
       "      <td>5</td>\n",
       "      <td>I was 3 months away from my upgrade and my Str...</td>\n",
       "      <td>3.0</td>\n",
       "    </tr>\n",
       "    <tr>\n",
       "      <th>167661</th>\n",
       "      <td>CNPGD [U.S. Office Extended Warranty] Smartwat...</td>\n",
       "      <td>CNPGD</td>\n",
       "      <td>49.99</td>\n",
       "      <td>1</td>\n",
       "      <td>an experience i want to forget</td>\n",
       "      <td>0.0</td>\n",
       "    </tr>\n",
       "    <tr>\n",
       "      <th>73287</th>\n",
       "      <td>Apple iPhone 7 Unlocked Phone 256 GB - US Vers...</td>\n",
       "      <td>Apple</td>\n",
       "      <td>922.00</td>\n",
       "      <td>5</td>\n",
       "      <td>GREAT PHONE WORK ACCORDING MY EXPECTATIONS.</td>\n",
       "      <td>1.0</td>\n",
       "    </tr>\n",
       "  </tbody>\n",
       "</table>\n",
       "</div>"
      ],
      "text/plain": [
       "                                             Product Name Brand Name   Price  \\\n",
       "394349  Sony XPERIA Z2 D6503 FACTORY UNLOCKED Internat...        NaN  244.95   \n",
       "34377       Apple iPhone 5c 8GB (Pink) - Verizon Wireless      Apple  194.99   \n",
       "248521  Motorola Droid RAZR MAXX XT912 M Verizon Smart...   Motorola  174.99   \n",
       "167661  CNPGD [U.S. Office Extended Warranty] Smartwat...      CNPGD   49.99   \n",
       "73287   Apple iPhone 7 Unlocked Phone 256 GB - US Vers...      Apple  922.00   \n",
       "\n",
       "        Rating                                            Reviews  \\\n",
       "394349       5  Very good one! Better than Samsung S and iphon...   \n",
       "34377        1  The phone needed a SIM card, would have been n...   \n",
       "248521       5  I was 3 months away from my upgrade and my Str...   \n",
       "167661       1                     an experience i want to forget   \n",
       "73287        5        GREAT PHONE WORK ACCORDING MY EXPECTATIONS.   \n",
       "\n",
       "        Review Votes  \n",
       "394349           0.0  \n",
       "34377            1.0  \n",
       "248521           3.0  \n",
       "167661           0.0  \n",
       "73287            1.0  "
      ]
     },
     "execution_count": 37,
     "metadata": {},
     "output_type": "execute_result"
    }
   ],
   "source": [
    "# Read in the data\n",
    "df = pd.read_csv('Amazon_Unlocked_Mobile.csv')\n",
    "\n",
    "# Sample the data to speed up computation\n",
    "# Comment out this line to match with lecture\n",
    "df = df.sample(frac=0.1, random_state=10) #Using only 10% of the data for better performance \n",
    "\n",
    "df.head()"
   ]
  },
  {
   "cell_type": "code",
   "execution_count": 38,
   "id": "c8383be9",
   "metadata": {},
   "outputs": [
    {
     "data": {
      "text/html": [
       "<div>\n",
       "<style scoped>\n",
       "    .dataframe tbody tr th:only-of-type {\n",
       "        vertical-align: middle;\n",
       "    }\n",
       "\n",
       "    .dataframe tbody tr th {\n",
       "        vertical-align: top;\n",
       "    }\n",
       "\n",
       "    .dataframe thead th {\n",
       "        text-align: right;\n",
       "    }\n",
       "</style>\n",
       "<table border=\"1\" class=\"dataframe\">\n",
       "  <thead>\n",
       "    <tr style=\"text-align: right;\">\n",
       "      <th></th>\n",
       "      <th>Product Name</th>\n",
       "      <th>Brand Name</th>\n",
       "      <th>Price</th>\n",
       "      <th>Rating</th>\n",
       "      <th>Reviews</th>\n",
       "      <th>Review Votes</th>\n",
       "      <th>Positively Rated</th>\n",
       "    </tr>\n",
       "  </thead>\n",
       "  <tbody>\n",
       "    <tr>\n",
       "      <th>34377</th>\n",
       "      <td>Apple iPhone 5c 8GB (Pink) - Verizon Wireless</td>\n",
       "      <td>Apple</td>\n",
       "      <td>194.99</td>\n",
       "      <td>1</td>\n",
       "      <td>The phone needed a SIM card, would have been n...</td>\n",
       "      <td>1.0</td>\n",
       "      <td>0</td>\n",
       "    </tr>\n",
       "    <tr>\n",
       "      <th>248521</th>\n",
       "      <td>Motorola Droid RAZR MAXX XT912 M Verizon Smart...</td>\n",
       "      <td>Motorola</td>\n",
       "      <td>174.99</td>\n",
       "      <td>5</td>\n",
       "      <td>I was 3 months away from my upgrade and my Str...</td>\n",
       "      <td>3.0</td>\n",
       "      <td>1</td>\n",
       "    </tr>\n",
       "    <tr>\n",
       "      <th>167661</th>\n",
       "      <td>CNPGD [U.S. Office Extended Warranty] Smartwat...</td>\n",
       "      <td>CNPGD</td>\n",
       "      <td>49.99</td>\n",
       "      <td>1</td>\n",
       "      <td>an experience i want to forget</td>\n",
       "      <td>0.0</td>\n",
       "      <td>0</td>\n",
       "    </tr>\n",
       "    <tr>\n",
       "      <th>73287</th>\n",
       "      <td>Apple iPhone 7 Unlocked Phone 256 GB - US Vers...</td>\n",
       "      <td>Apple</td>\n",
       "      <td>922.00</td>\n",
       "      <td>5</td>\n",
       "      <td>GREAT PHONE WORK ACCORDING MY EXPECTATIONS.</td>\n",
       "      <td>1.0</td>\n",
       "      <td>1</td>\n",
       "    </tr>\n",
       "    <tr>\n",
       "      <th>277158</th>\n",
       "      <td>Nokia N8 Unlocked GSM Touch Screen Phone Featu...</td>\n",
       "      <td>Nokia</td>\n",
       "      <td>95.00</td>\n",
       "      <td>5</td>\n",
       "      <td>I fell in love with this phone because it did ...</td>\n",
       "      <td>0.0</td>\n",
       "      <td>1</td>\n",
       "    </tr>\n",
       "  </tbody>\n",
       "</table>\n",
       "</div>"
      ],
      "text/plain": [
       "                                             Product Name Brand Name   Price  \\\n",
       "34377       Apple iPhone 5c 8GB (Pink) - Verizon Wireless      Apple  194.99   \n",
       "248521  Motorola Droid RAZR MAXX XT912 M Verizon Smart...   Motorola  174.99   \n",
       "167661  CNPGD [U.S. Office Extended Warranty] Smartwat...      CNPGD   49.99   \n",
       "73287   Apple iPhone 7 Unlocked Phone 256 GB - US Vers...      Apple  922.00   \n",
       "277158  Nokia N8 Unlocked GSM Touch Screen Phone Featu...      Nokia   95.00   \n",
       "\n",
       "        Rating                                            Reviews  \\\n",
       "34377        1  The phone needed a SIM card, would have been n...   \n",
       "248521       5  I was 3 months away from my upgrade and my Str...   \n",
       "167661       1                     an experience i want to forget   \n",
       "73287        5        GREAT PHONE WORK ACCORDING MY EXPECTATIONS.   \n",
       "277158       5  I fell in love with this phone because it did ...   \n",
       "\n",
       "        Review Votes  Positively Rated  \n",
       "34377            1.0                 0  \n",
       "248521           3.0                 1  \n",
       "167661           0.0                 0  \n",
       "73287            1.0                 1  \n",
       "277158           0.0                 1  "
      ]
     },
     "execution_count": 38,
     "metadata": {},
     "output_type": "execute_result"
    }
   ],
   "source": [
    "# Drop missing values\n",
    "df.dropna(inplace=True)\n",
    "\n",
    "# Remove any 'neutral' ratings equal to 3\n",
    "df = df[df['Rating'] != 3]\n",
    "\n",
    "# Encode 4s and 5s as 1 (rated positively)\n",
    "# Encode 1s and 2s as 0 (rated poorly)\n",
    "df['Positively Rated'] = np.where(df['Rating'] > 3, 1, 0)\n",
    "df.head(5)"
   ]
  },
  {
   "cell_type": "code",
   "execution_count": 39,
   "id": "d526d7bd",
   "metadata": {},
   "outputs": [
    {
     "name": "stdout",
     "output_type": "stream",
     "text": [
      "I was 3 months away from my upgrade and my Stratosphere kept crapping out on me. I didn't want to wait and every time Verizon sent me a new Stratosphere it would work fine for a few days and then it would crap out. I didn't want the HD version of this phone so I decided to try Amazon. They had a used one sold by GottaGetaPhone. It's works great!! I can't even tell that it was used. The battery lasts me 2 to 3 days between charges depending on usage. And best part is that I've had it for a month and it hasn't crapped out on me!!\n",
      "['i', 'was', '3', 'months', 'away', 'from', 'my', 'upgrade', 'and', 'my', 'stratosphere', 'kept', 'crapping', 'out', 'on', 'me.', 'i', \"didn't\", 'want', 'to', 'wait', 'and', 'every', 'time', 'verizon', 'sent', 'me', 'a', 'new', 'stratosphere', 'it', 'would', 'work', 'fine', 'for', 'a', 'few', 'days', 'and', 'then', 'it', 'would', 'crap', 'out.', 'i', \"didn't\", 'want', 'the', 'hd', 'version', 'of', 'this', 'phone', 'so', 'i', 'decided', 'to', 'try', 'amazon.', 'they', 'had', 'a', 'used', 'one', 'sold', 'by', 'gottagetaphone.', \"it's\", 'works', 'great!!', 'i', \"can't\", 'even', 'tell', 'that', 'it', 'was', 'used.', 'the', 'battery', 'lasts', 'me', '2', 'to', '3', 'days', 'between', 'charges', 'depending', 'on', 'usage.', 'and', 'best', 'part', 'is', 'that', \"i've\", 'had', 'it', 'for', 'a', 'month', 'and', 'it', \"hasn't\", 'crapped', 'out', 'on', 'me!!']\n"
     ]
    }
   ],
   "source": [
    "#Load the dataset\n",
    "reviews = df['Reviews'].tolist()\n",
    "print(reviews[1])\n",
    "\n",
    "#Preprocess reviews to tokenize them\n",
    "processed_reviews = [sentence.lower().split() for sentence in reviews]\n",
    "print(processed_reviews[1])"
   ]
  },
  {
   "cell_type": "code",
   "execution_count": 40,
   "id": "50f81d2c",
   "metadata": {},
   "outputs": [],
   "source": [
    "#Train a Word2Vec model\n",
    "#Using a small vector size for simplicity\n",
    "model_w2v = Word2Vec(sentences=processed_reviews, vector_size=50, window=3, min_count=1, sg=0)"
   ]
  },
  {
   "cell_type": "code",
   "execution_count": 41,
   "id": "6ca2fecf",
   "metadata": {},
   "outputs": [],
   "source": [
    "#Define a function to get review embeddings\n",
    "def get_review_embedding(sentence, model):\n",
    "    words = sentence.lower().split()\n",
    "    word_vectors = []\n",
    "    for word in words:\n",
    "        if word in model.wv:\n",
    "            word_vectors.append(model.wv[word])\n",
    "    if len(word_vectors) == 0:\n",
    "        return np.zeros(model.vector_size)\n",
    "    return np.mean(word_vectors, axis=0)"
   ]
  },
  {
   "cell_type": "code",
   "execution_count": 42,
   "id": "2d8da9c6",
   "metadata": {},
   "outputs": [
    {
     "name": "stdout",
     "output_type": "stream",
     "text": [
      "[ 0.04549375 -0.08679199  0.30305657  0.4712545   0.39051977 -1.0729597\n",
      "  0.46692002  0.5506285  -1.591848   -0.65773165  0.5630719  -0.8070552\n",
      "  1.579028    1.3323407   0.12145619  1.887161    1.0613836   0.07092652\n",
      " -1.2110697  -0.88412184 -0.435929    0.38522837  0.64735067 -0.23414007\n",
      "  0.80945796 -0.5019369   0.12207182 -0.02201697 -0.2562923  -0.13712391\n",
      "  1.5399715   0.48792168 -0.0046762  -0.6691273  -0.3320624   0.8751267\n",
      "  0.71120745  0.08565497  1.0539026   0.48299807  0.29207602 -0.23882143\n",
      "  0.34673595 -0.45878658  0.8725728   0.6406814  -0.9444696   0.2921943\n",
      "  0.24522027 -0.60130745]\n"
     ]
    }
   ],
   "source": [
    "#Print the embeddings of the first review with Word2Vec\n",
    "print(get_review_embedding(reviews[1],model_w2v))"
   ]
  },
  {
   "cell_type": "code",
   "execution_count": 59,
   "id": "277dc9bf",
   "metadata": {},
   "outputs": [],
   "source": [
    "#Train our first model with embeddings \n",
    "from sklearn.model_selection import train_test_split, RandomizedSearchCV #Use of Random Search for better model perfomance \n",
    "\n",
    "embeddings = [] \n",
    "embeddings = [get_review_embedding(review, model_w2v) for review in reviews] #Fill the empty list with the embeddings from Word2Vec model\n",
    "\n",
    "# Split data into training and test sets\n",
    "X_train, X_test, y_train, y_test = train_test_split(embeddings, \n",
    "                                                    df['Positively Rated'], \n",
    "                                                    random_state=0)"
   ]
  },
  {
   "cell_type": "code",
   "execution_count": 60,
   "id": "9c69b2fc",
   "metadata": {},
   "outputs": [
    {
     "name": "stdout",
     "output_type": "stream",
     "text": [
      "Best Parameters: {'subsample': 0.7, 'reg_lambda': 0, 'reg_alpha': 0, 'n_estimators': 200, 'max_depth': 9, 'learning_rate': 0.01, 'gamma': 0.1, 'colsample_bytree': 0.8}\n",
      "Best AUC Score: 0.9440428047600371\n",
      "AUC score: 0.9433840561973388\n"
     ]
    }
   ],
   "source": [
    "import xgboost as xgb #Importing the XGBoost model \n",
    "from sklearn.metrics import roc_auc_score \n",
    "\n",
    "#Initialize the model\n",
    "model = xgb.XGBClassifier()\n",
    "\n",
    "#Definition of parameters with plenty of different compinations\n",
    "param_dist = {\n",
    "    'max_depth': [3, 5, 7, 9],\n",
    "    'learning_rate': [0.01, 0.05, 0.1],\n",
    "    'n_estimators': [50, 100, 200],\n",
    "    'subsample': [0.7, 0.8, 0.9],\n",
    "    'colsample_bytree': [0.7, 0.8, 0.9],\n",
    "    'gamma': [0, 0.1, 0.2],\n",
    "    'reg_alpha': [0, 1, 10],\n",
    "    'reg_lambda': [0, 1, 10] \n",
    "}\n",
    "\n",
    "#Use of Random Search on XGBoost with parallel Cross-Validation\n",
    "random_search = RandomizedSearchCV(model, param_distributions=param_dist, n_iter=10, cv=5, scoring='roc_auc')\n",
    "random_search.fit(X_train, y_train) #Fit the model with Random Search\n",
    "\n",
    "print(\"Best Parameters:\", random_search.best_params_)\n",
    "print(\"Best AUC Score:\", random_search.best_score_)\n",
    "\n",
    "best_model = random_search.best_estimator_\n",
    "\n",
    "#Model Evaluation\n",
    "y_pred_proba = best_model.predict_proba(X_test)[:, 1]\n",
    "auc = roc_auc_score(y_test, y_pred_proba)\n",
    "print(\"AUC score:\", auc)"
   ]
  },
  {
   "cell_type": "code",
   "execution_count": 61,
   "id": "11eda1fa",
   "metadata": {},
   "outputs": [
    {
     "name": "stdout",
     "output_type": "stream",
     "text": [
      "Accuracy: 0.8852160333159813\n",
      "Precision: 0.894251012145749\n",
      "Recall: 0.9601808381151105\n",
      "F1 Score: 0.9260439376152942\n",
      "Confusion Matrix:\n",
      "[[1280  653]\n",
      " [ 229 5522]]\n"
     ]
    }
   ],
   "source": [
    "#Importing Metrics for XGBoost \n",
    "from sklearn.metrics import accuracy_score, precision_score, recall_score, f1_score, confusion_matrix\n",
    "\n",
    "#Predictions with XGBoost\n",
    "y_pred = best_model.predict(X_test)\n",
    "\n",
    "xgb_accuracy = accuracy_score(y_test, y_pred)\n",
    "xgb_precision = precision_score(y_test, y_pred)\n",
    "xgb_recall = recall_score(y_test, y_pred)\n",
    "xgb_f1 = f1_score(y_test, y_pred)\n",
    "\n",
    "#Print the results\n",
    "print(\"Accuracy:\", xgb_accuracy)\n",
    "print(\"Precision:\", xgb_precision)\n",
    "print(\"Recall:\", xgb_recall)\n",
    "print(\"F1 Score:\", xgb_f1)\n",
    "\n",
    "#Confusion matrix\n",
    "conf_matrix = confusion_matrix(y_test, y_pred)\n",
    "print(\"Confusion Matrix:\")\n",
    "print(conf_matrix)"
   ]
  },
  {
   "cell_type": "code",
   "execution_count": 62,
   "id": "dc25d3c1",
   "metadata": {},
   "outputs": [
    {
     "name": "stdout",
     "output_type": "stream",
     "text": [
      "Expected Predictions: [1,0] with 0.8852160333159813 accuracy\n",
      "Predictions: [1 1]\n"
     ]
    }
   ],
   "source": [
    "#Prediction of two simple comments with Word2Vec\n",
    "new_comments = ['not an issue, phone is working', 'an issue, phone is not working']\n",
    "new_embeddings = [get_review_embedding(comment, model_w2v) for comment in new_comments]\n",
    "predictions = best_model.predict(new_embeddings)\n",
    "print(\"Expected Predictions: [1,0] with\",xgb_accuracy, \"accuracy\")\n",
    "print(\"Predictions:\", predictions)"
   ]
  },
  {
   "cell_type": "code",
   "execution_count": 63,
   "id": "c2caf4b1",
   "metadata": {},
   "outputs": [
    {
     "name": "stdout",
     "output_type": "stream",
     "text": [
      "\n",
      "--- Using Pre-trained Embeddings (GloVe) ---\n"
     ]
    }
   ],
   "source": [
    "#Use pre-trained embeddings (GloVe)\n",
    "print(\"\\n--- Using Pre-trained Embeddings (GloVe) ---\")\n",
    "glove_model = api.load(\"glove-wiki-gigaword-50\")\n",
    "\n",
    "#Define a function to get review embedding using GloVe\n",
    "def get_review_embedding_glove(sentence, model):\n",
    "    words = sentence.lower().split()\n",
    "    word_vectors = []\n",
    "    for word in words:\n",
    "        if word in model:\n",
    "            word_vectors.append(model[word])\n",
    "    if len(word_vectors) == 0:\n",
    "        return np.zeros(model['data'].shape[0])\n",
    "    return np.mean(word_vectors, axis=0)"
   ]
  },
  {
   "cell_type": "code",
   "execution_count": 64,
   "id": "e3e8f585",
   "metadata": {},
   "outputs": [
    {
     "name": "stdout",
     "output_type": "stream",
     "text": [
      "[ 0.32685634  0.09039927  0.09105929 -0.15679033  0.31469712  0.11798217\n",
      " -0.48984507 -0.03299778 -0.21472326  0.01071966 -0.01179792  0.13765682\n",
      " -0.36748335 -0.11953119  0.52635264  0.24027763 -0.06242474  0.01702298\n",
      " -0.41186646 -0.3900368   0.15513963  0.21431924  0.32682326 -0.01186744\n",
      "  0.14103818 -1.6343603  -0.3040641   0.09819191  0.35085532 -0.38845816\n",
      "  3.2890372   0.18400379 -0.3511699  -0.13982666  0.1156856  -0.06760355\n",
      "  0.19432129  0.18797386  0.12478791 -0.21413073 -0.05383534  0.0862225\n",
      " -0.02296573  0.11332116 -0.17208     0.07322724 -0.09066887 -0.19894427\n",
      " -0.1196489   0.05096698]\n"
     ]
    }
   ],
   "source": [
    "#Print the embeddings of the first review with GloVe\n",
    "print(get_review_embedding_glove(reviews[1],glove_model))"
   ]
  },
  {
   "cell_type": "code",
   "execution_count": 65,
   "id": "54314351",
   "metadata": {},
   "outputs": [],
   "source": [
    "#Train the model again this time with embeddings of GloVe\n",
    "embeddings_glove = [] \n",
    "embeddings_glove = [get_review_embedding_glove(review, glove_model) for review in reviews] #Fill the empty list with the embeddings from GloVe model\n",
    "\n",
    "# Split data into training and test sets\n",
    "X_train, X_test, y_train, y_test = train_test_split(embeddings_glove, \n",
    "                                                    df['Positively Rated'], \n",
    "                                                    random_state=0)"
   ]
  },
  {
   "cell_type": "code",
   "execution_count": 66,
   "id": "0a2888f5",
   "metadata": {},
   "outputs": [
    {
     "name": "stdout",
     "output_type": "stream",
     "text": [
      "Best Parameters: {'subsample': 0.8, 'reg_lambda': 10, 'reg_alpha': 0, 'n_estimators': 200, 'max_depth': 5, 'learning_rate': 0.1, 'gamma': 0, 'colsample_bytree': 0.9}\n",
      "Best AUC Score: 0.9238069498714822\n",
      "AUC score: 0.916426284711006\n"
     ]
    }
   ],
   "source": [
    "import xgboost as xgb #Importing XGBoost Model\n",
    "from sklearn.metrics import roc_auc_score \n",
    "\n",
    "#Initialize the model\n",
    "model = xgb.XGBClassifier()\n",
    "\n",
    "#Definition of parameters with plenty of different compinations\n",
    "param_dist = {\n",
    "    'max_depth': [3, 5, 7, 9],\n",
    "    'learning_rate': [0.01, 0.05, 0.1],\n",
    "    'n_estimators': [50, 100, 200],\n",
    "    'subsample': [0.7, 0.8, 0.9],\n",
    "    'colsample_bytree': [0.7, 0.8, 0.9],\n",
    "    'gamma': [0, 0.1, 0.2],\n",
    "    'reg_alpha': [0, 1, 10],\n",
    "    'reg_lambda': [0, 1, 10] \n",
    "}\n",
    "\n",
    "#Use of Random Search on XGBoost with parallel Cross-Validation\n",
    "random_search = RandomizedSearchCV(model, param_distributions=param_dist, n_iter=10, cv=5, scoring='roc_auc')\n",
    "random_search.fit(X_train, y_train) #Fit the model with Random Search\n",
    "\n",
    "print(\"Best Parameters:\", random_search.best_params_)\n",
    "print(\"Best AUC Score:\", random_search.best_score_)\n",
    "\n",
    "best_model = random_search.best_estimator_\n",
    "\n",
    "#Model Evaluation\n",
    "y_pred_proba = best_model.predict_proba(X_test)[:, 1]\n",
    "auc = roc_auc_score(y_test, y_pred_proba)\n",
    "print(\"AUC score:\", auc)"
   ]
  },
  {
   "cell_type": "code",
   "execution_count": 67,
   "id": "9821b80a",
   "metadata": {},
   "outputs": [
    {
     "name": "stdout",
     "output_type": "stream",
     "text": [
      "Accuracy: 0.864263404476835\n",
      "Precision: 0.8927260593927261\n",
      "Recall: 0.9304468788036863\n",
      "F1 Score: 0.9111962537249894\n",
      "Confusion Matrix:\n",
      "[[1290  643]\n",
      " [ 400 5351]]\n"
     ]
    }
   ],
   "source": [
    "#Predictions with XGBoost\n",
    "y_pred = best_model.predict(X_test)\n",
    "\n",
    "xgb_accuracy = accuracy_score(y_test, y_pred)\n",
    "xgb_precision = precision_score(y_test, y_pred)\n",
    "xgb_recall = recall_score(y_test, y_pred)\n",
    "xgb_f1 = f1_score(y_test, y_pred)\n",
    "\n",
    "#Print the results\n",
    "print(\"Accuracy:\", xgb_accuracy)\n",
    "print(\"Precision:\", xgb_precision)\n",
    "print(\"Recall:\", xgb_recall)\n",
    "print(\"F1 Score:\", xgb_f1)\n",
    "\n",
    "#Confusion matrix\n",
    "conf_matrix = confusion_matrix(y_test, y_pred)\n",
    "print(\"Confusion Matrix:\")\n",
    "print(conf_matrix)"
   ]
  },
  {
   "cell_type": "code",
   "execution_count": 68,
   "id": "ab7496e3",
   "metadata": {},
   "outputs": [
    {
     "name": "stdout",
     "output_type": "stream",
     "text": [
      "Expected Predictions: [1,0] with 0.864263404476835 accuracy\n",
      "Predictions: [0 0]\n"
     ]
    }
   ],
   "source": [
    "#Prediction of two simple comments with GloVe\n",
    "new_comments = ['not an issue, phone is working', 'an issue, phone is not working']\n",
    "new_embeddings = [get_review_embedding_glove(comment, glove_model) for comment in new_comments]\n",
    "predictions = best_model.predict(new_embeddings)\n",
    "print(\"Expected Predictions: [1,0] with\",xgb_accuracy, \"accuracy\")\n",
    "print(\"Predictions:\", predictions)"
   ]
  }
 ],
 "metadata": {
  "kernelspec": {
   "display_name": "Python 3 (ipykernel)",
   "language": "python",
   "name": "python3"
  },
  "language_info": {
   "codemirror_mode": {
    "name": "ipython",
    "version": 3
   },
   "file_extension": ".py",
   "mimetype": "text/x-python",
   "name": "python",
   "nbconvert_exporter": "python",
   "pygments_lexer": "ipython3",
   "version": "3.11.7"
  }
 },
 "nbformat": 4,
 "nbformat_minor": 5
}
